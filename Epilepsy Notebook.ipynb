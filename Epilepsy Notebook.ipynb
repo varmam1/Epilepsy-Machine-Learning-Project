{
 "cells": [
  {
   "cell_type": "code",
   "execution_count": 1,
   "metadata": {},
   "outputs": [],
   "source": [
    "import csv\n",
    "import numpy as np\n",
    "\n",
    "with open(\"datahalfsec.csv\", newline='') as csvfile:\n",
    "    d = list(csv.reader(csvfile, delimiter=' ', quotechar='|'))\n",
    "    data = []\n",
    "    for i in range(len(d)):\n",
    "        a = d[i][0].split(\",\")\n",
    "        for j in range(len(a)):\n",
    "            if a[j] != '':\n",
    "                a[j] = int(a[j])\n",
    "        data.append(a)\n",
    "    del d\n",
    "\n",
    "data = np.array(data)\n",
    "ytrain = data[:,-1]\n",
    "numSamples = int(len(data)*0.8)\n",
    "xtrain = data[:,:-1]\n",
    "xtest = xtrain[numSamples:]\n",
    "xtrain = xtrain[:numSamples]\n",
    "ytest = ytrain[numSamples:]\n",
    "ytrain = ytrain[:numSamples]\n",
    "del data"
   ]
  },
  {
   "cell_type": "code",
   "execution_count": null,
   "metadata": {},
   "outputs": [],
   "source": [
    "from sklearn import svm\n",
    "classifier = svm.NuSVC()\n",
    "classifier.fit(xtrain, ytrain)\n",
    "pre = classifier.predict(xtest)\n",
    "print(np.mean(pre == ytest))\n",
    "b = np.zeros((5,))\n",
    "for j in range(1, 6):\n",
    "    num3 = 0\n",
    "    numCorrect = 0\n",
    "    for i in range(len(pre)):\n",
    "        if ytest[i] == j:\n",
    "            num3 += 1\n",
    "            if pre[i] == j:\n",
    "                numCorrect += 1\n",
    "    j -= 1\n",
    "    b[j] = numCorrect/num3\n",
    "print(b)"
   ]
  },
  {
   "cell_type": "code",
   "execution_count": null,
   "metadata": {},
   "outputs": [],
   "source": [
    "s = 0\n",
    "for i in b:\n",
    "    s+=i\n",
    "s"
   ]
  },
  {
   "cell_type": "code",
   "execution_count": 2,
   "metadata": {
    "collapsed": true
   },
   "outputs": [],
   "source": [
    "from sklearn.neural_network import MLPClassifier\n",
    "clf = MLPClassifier(solver='lbfgs', alpha=1e-6, hidden_layer_sizes=(100, 100, 100), random_state=1)"
   ]
  },
  {
   "cell_type": "code",
   "execution_count": 3,
   "metadata": {},
   "outputs": [
    {
     "data": {
      "text/plain": [
       "MLPClassifier(activation='relu', alpha=1e-06, batch_size='auto', beta_1=0.9,\n",
       "       beta_2=0.999, early_stopping=False, epsilon=1e-08,\n",
       "       hidden_layer_sizes=(100, 100, 100), learning_rate='constant',\n",
       "       learning_rate_init=0.001, max_iter=200, momentum=0.9,\n",
       "       nesterovs_momentum=True, power_t=0.5, random_state=1, shuffle=True,\n",
       "       solver='lbfgs', tol=0.0001, validation_fraction=0.1, verbose=False,\n",
       "       warm_start=False)"
      ]
     },
     "execution_count": 3,
     "metadata": {},
     "output_type": "execute_result"
    }
   ],
   "source": [
    "clf.fit(xtrain, ytrain)"
   ]
  },
  {
   "cell_type": "code",
   "execution_count": 4,
   "metadata": {},
   "outputs": [
    {
     "data": {
      "text/plain": [
       "array([3, 3, 4, ..., 5, 3, 4])"
      ]
     },
     "execution_count": 4,
     "metadata": {},
     "output_type": "execute_result"
    }
   ],
   "source": [
    "prediction = clf.predict(xtest)\n",
    "prediction"
   ]
  },
  {
   "cell_type": "code",
   "execution_count": 5,
   "metadata": {},
   "outputs": [
    {
     "data": {
      "text/plain": [
       "0.60695652173913039"
      ]
     },
     "execution_count": 5,
     "metadata": {},
     "output_type": "execute_result"
    }
   ],
   "source": [
    "np.mean(prediction == ytest)"
   ]
  },
  {
   "cell_type": "code",
   "execution_count": 6,
   "metadata": {},
   "outputs": [
    {
     "name": "stdout",
     "output_type": "stream",
     "text": [
      "926\n",
      "893\n",
      "924\n",
      "889\n",
      "968\n"
     ]
    }
   ],
   "source": [
    "a = np.zeros((5,))\n",
    "for j in range(1, 6):\n",
    "    num3 = 0\n",
    "    numCorrect = 0\n",
    "    for i in range(len(prediction)):\n",
    "        if ytest[i] == j:\n",
    "            num3 += 1\n",
    "            if prediction[i] == j:\n",
    "                numCorrect += 1\n",
    "    print(num3)\n",
    "    j -= 1\n",
    "    a[j] = numCorrect/num3"
   ]
  },
  {
   "cell_type": "code",
   "execution_count": 7,
   "metadata": {},
   "outputs": [
    {
     "data": {
      "text/plain": [
       "array([ 0.91576674,  0.35722284,  0.46645022,  0.67154106,  0.61673554])"
      ]
     },
     "execution_count": 7,
     "metadata": {},
     "output_type": "execute_result"
    }
   ],
   "source": [
    "a"
   ]
  },
  {
   "cell_type": "code",
   "execution_count": null,
   "metadata": {
    "collapsed": true
   },
   "outputs": [],
   "source": [
    "np.savetxt(\"datahalfsec with 5 layer 1000 500 200 100 and 3000 test samples.csv\", a, delimiter=\",\")"
   ]
  }
 ],
 "metadata": {
  "kernelspec": {
   "display_name": "Python 3",
   "language": "python",
   "name": "python3"
  },
  "language_info": {
   "codemirror_mode": {
    "name": "ipython",
    "version": 3
   },
   "file_extension": ".py",
   "mimetype": "text/x-python",
   "name": "python",
   "nbconvert_exporter": "python",
   "pygments_lexer": "ipython3",
   "version": "3.6.1"
  }
 },
 "nbformat": 4,
 "nbformat_minor": 2
}
